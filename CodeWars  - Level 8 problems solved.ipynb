{
 "cells": [
  {
   "cell_type": "code",
   "execution_count": 17,
   "metadata": {},
   "outputs": [
    {
     "data": {
      "text/plain": [
       "'alpha betta beta'"
      ]
     },
     "execution_count": 17,
     "metadata": {},
     "output_type": "execute_result"
    }
   ],
   "source": [
    "'''Your task is to remove all duplicate words from string, leaving only single (first) words entries.\n",
    "\n",
    "Example:\n",
    "\n",
    "Input:\n",
    "\n",
    "'alpha beta beta gamma gamma gamma delta alpha beta beta gamma gamma gamma delta'\n",
    "\n",
    "Output:\n",
    "\n",
    "alpha beta gamma delta'''\n",
    "\n",
    "#Solution One\n",
    "def remove_duplicate_word(s):\n",
    "    s = s.split()\n",
    "    empty = \"\"\n",
    "    for word in s:\n",
    "        if word in empty:\n",
    "            pass\n",
    "        else:\n",
    "            empty += word + \" \"\n",
    "    return empty\n",
    "\n",
    "remove_duplicate_word('alpha betta beta alpha')\n",
    "remove_duplicate_word('alpha beta beta gamma gamma gamma delta alpha beta beta gamma gamma gamma delta')\n",
    "remove_duplicate_word('my cat is my cat fat')\n",
    "\n",
    "#Solution Two - this passed all test\n",
    "def delete_duplicate_word(s):\n",
    "    s = s.split()\n",
    "    empty = []\n",
    "    for word in s:\n",
    "        if word in empty:\n",
    "            pass\n",
    "        else:\n",
    "            empty.append(word)\n",
    "    return \" \".join(empty)\n",
    "\n",
    "delete_duplicate_word('alpha betta beta alpha')\n"
   ]
  },
  {
   "cell_type": "code",
   "execution_count": 100,
   "metadata": {},
   "outputs": [
    {
     "name": "stdout",
     "output_type": "stream",
     "text": [
      "accum on Vanessa: V-Aa-Nnn-Eeee-Sssss-Ssssss-Aaaaaaa\n"
     ]
    }
   ],
   "source": [
    "'''This time no story, no theory. The examples below show you how to write function accum:\n",
    "\n",
    "Examples:\n",
    "\n",
    "accum(\"abcd\") -> \"A-Bb-Ccc-Dddd\"\n",
    "accum(\"RqaEzty\") -> \"R-Qq-Aaa-Eeee-Zzzzz-Tttttt-Yyyyyyy\"\n",
    "accum(\"cwAt\") -> \"C-Ww-Aaa-Tttt\"'''\n",
    "        \n",
    "def accum(s):\n",
    "    # your code\n",
    "    s = list(enumerate(s))\n",
    "    string = []\n",
    "    for letter in s:\n",
    "        string.append((letter[0] + 1) * letter[1])\n",
    "    return \"-\".join(string).title()"
   ]
  },
  {
   "cell_type": "code",
   "execution_count": 1,
   "metadata": {},
   "outputs": [
    {
     "name": "stdout",
     "output_type": "stream",
     "text": [
      "sum of nums(2,5): 14\n",
      "sum of nums(12,5): 68\n",
      "sum of nums(-5,5): 0\n",
      "sum of nums(5,5): 5\n"
     ]
    }
   ],
   "source": [
    "#sum of all nums between a and b (a and b included), can be negative nums too\n",
    "\n",
    "def sum_of_nums(a, b):\n",
    "    if a > b:\n",
    "        b, a = a, b\n",
    "    total = 0\n",
    "    for i in range(a, b + 1):\n",
    "        total += i\n",
    "    return total\n",
    "\n",
    "print('sum of nums(2,5):', sum_of_nums(2,5))\n",
    "print('sum of nums(12,5):', sum_of_nums(12, 5))\n",
    "print('sum of nums(-5,5):', sum_of_nums(-5, 5))\n",
    "print('sum of nums(5,5):', sum_of_nums(5, 5))"
   ]
  },
  {
   "cell_type": "code",
   "execution_count": null,
   "metadata": {},
   "outputs": [],
   "source": [
    "#sum of two integers represented in a 6 digit binary string\n",
    "\n",
    "def bin_sum(a, b):\n",
    "    return '{0:08b}'.format(a+b)\n",
    "\n",
    "print(type(bin_sum(2,4)))\n",
    "bin_sum(2,4)"
   ]
  },
  {
   "cell_type": "code",
   "execution_count": 17,
   "metadata": {},
   "outputs": [],
   "source": [
    "def sum2(num):\n",
    "    return sum(range(1,(num + 1)))\n",
    "\n"
   ]
  },
  {
   "cell_type": "code",
   "execution_count": 18,
   "metadata": {},
   "outputs": [
    {
     "name": "stdout",
     "output_type": "stream",
     "text": [
      "a3456\n",
      "efyz1\n",
      "ijkuv\n",
      "mnopq\n",
      "\n"
     ]
    }
   ],
   "source": [
    "string =\"abcd\\nefgh\\nijkl\\nmnop\"\n",
    "string2 = \"qrst\\nuvwx\\nyz12\\n3456\"\n",
    "\n",
    "def compose(s1, s2):\n",
    "    s1 = s1.split()\n",
    "    s2 = s2.split()\n",
    "    temp = \"\"\n",
    "    length = len(s1) \n",
    "    for i in range(len(s1)):\n",
    "        temp += s1[i][:i+1]\n",
    "        temp += s2[length - i -1][:length - i]\n",
    "        temp += '\\n'\n",
    "    return temp\n",
    "    \n",
    "print(compose(string,string2))"
   ]
  },
  {
   "cell_type": "code",
   "execution_count": 23,
   "metadata": {},
   "outputs": [
    {
     "name": "stdout",
     "output_type": "stream",
     "text": [
      "e\n",
      "he\n"
     ]
    }
   ],
   "source": [
    "def get_middle(s):\n",
    "    if len(s) % 2 == 0:\n",
    "        let = int(len(s) / 2)\n",
    "        return s[let - 1] + s[let]\n",
    "    else:\n",
    "        return s[divmod(len(s), 2)[0]]\n",
    "        \n",
    "print(get_middle('vanessa'))\n",
    "print(get_middle('Theo'))"
   ]
  },
  {
   "cell_type": "code",
   "execution_count": 54,
   "metadata": {},
   "outputs": [
    {
     "name": "stdout",
     "output_type": "stream",
     "text": [
      "3\n",
      "4\n",
      "0\n",
      "2\n"
     ]
    }
   ],
   "source": [
    "def persistence(n):\n",
    "    count = 0\n",
    "    while n > 9:\n",
    "        num = [int(i) for i in str(n)]\n",
    "        temp = 1\n",
    "        for i in num:\n",
    "            temp = temp * i\n",
    "        n = temp\n",
    "        count += 1\n",
    "    return count\n",
    "        \n",
    "    \n",
    "          \n",
    "print(persistence(39))           \n",
    "print(persistence(999))   \n",
    "print(persistence(4))\n",
    "print(persistence(25)) "
   ]
  },
  {
   "cell_type": "code",
   "execution_count": 6,
   "metadata": {},
   "outputs": [
    {
     "name": "stdout",
     "output_type": "stream",
     "text": [
      "i 1\n",
      "i 2\n",
      "i 3\n",
      "total 3\n",
      "i 4\n",
      "i 5\n",
      "total 8\n",
      "i 6\n",
      "total 14\n",
      "i 7\n",
      "i 8\n",
      "i 9\n",
      "total 23\n",
      "23\n"
     ]
    }
   ],
   "source": [
    "'''If we list all the natural numbers below 10 that are multiples of 3 or 5, we get 3, 5, 6 and 9. The sum of these multiples is 23.\n",
    "\n",
    "Finish the solution so that it returns the sum of all the multiples of 3 or 5 below the number passed in.\n",
    "\n",
    "Note: If the number is a multiple of both 3 and 5, only count it once.'''\n",
    "\n",
    "def solution(number):\n",
    "    #temp variable to store total\n",
    "    total = 0\n",
    "    #iterate through 1 up number but no including num\n",
    "    for i in range(1, number):\n",
    "        print('i', i)\n",
    "        #check if number is divisable by 3 or 5\n",
    "        if i % 3 == 0 or i % 5 == 0:\n",
    "            #add number to the total\n",
    "            total += i\n",
    "            print('total', total)\n",
    "    return total\n",
    "            \n",
    "\n",
    "print(solution(10))"
   ]
  },
  {
   "cell_type": "code",
   "execution_count": 16,
   "metadata": {},
   "outputs": [
    {
     "name": "stdout",
     "output_type": "stream",
     "text": [
      "5\n"
     ]
    }
   ],
   "source": [
    "'''Given an array, find the int that appears an odd number of times.'''\n",
    "\n",
    "def find_it(seq):\n",
    "    for num in seq:\n",
    "        counter = seq.count(num)\n",
    "        if counter % 2 == 1:\n",
    "            return num\n",
    "\n",
    "print(find_it([20,1,-1,2,-2,3,3,5,5,1,2,4,20,4,-1,-2,5]))"
   ]
  },
  {
   "cell_type": "code",
   "execution_count": 28,
   "metadata": {},
   "outputs": [
    {
     "name": "stdout",
     "output_type": "stream",
     "text": [
      "0\n",
      "1\n",
      "1\n"
     ]
    }
   ],
   "source": [
    "'''Write a function that will return the count of distinct case-insensitive alphabetic characters and numeric digits that occur more than once in the input string. The input string can be assumed to contain only alphabets (both uppercase and lowercase) and numeric digits.'''\n",
    "\n",
    "def duplicate_count(text):\n",
    "    text = text.lower()\n",
    "    text_dict = {}\n",
    "    counter = 0\n",
    "    for i in text:\n",
    "        freq = text_dict.get(i, 0)\n",
    "        freq += 1\n",
    "        text_dict[i] = freq\n",
    "    for i in text_dict:\n",
    "        if text_dict[i] > 1:\n",
    "            counter += 1\n",
    "        else:\n",
    "            counter\n",
    "    return counter\n",
    "    \n",
    "\n",
    "print(duplicate_count(\"abcde\")) #0\n",
    "print(duplicate_count(\"abcdea\"))#1\n",
    "print(duplicate_count(\"indivisibility\"))#1"
   ]
  },
  {
   "cell_type": "code",
   "execution_count": 11,
   "metadata": {},
   "outputs": [
    {
     "name": "stdout",
     "output_type": "stream",
     "text": [
      "0\n",
      "1\n",
      "3\n",
      "2\n",
      "2\n"
     ]
    }
   ],
   "source": [
    "'''Write a function that takes an integer as input, and returns the number of bits that \n",
    "are equal to one in the binary representation of that number. You can guarantee that input \n",
    "is non-negative.\n",
    "Example: The binary representation of 1234 is 10011010010, so the function should return 5 in this case\n",
    "'''\n",
    "\n",
    "def countBits(n):\n",
    "    #bit_num = bin(n)\n",
    "    #for i in bit_num:\n",
    "        #return bit_num.count('1')\n",
    "    return bin(n).count('1')\n",
    "    \n",
    "\n",
    "\n",
    "print(countBits(0))#0\n",
    "print(countBits(4))#1\n",
    "print(countBits(7))#3\n",
    "print(countBits(9))#2\n",
    "print(countBits(10))#2\n",
    "\n"
   ]
  },
  {
   "cell_type": "code",
   "execution_count": null,
   "metadata": {},
   "outputs": [],
   "source": []
  }
 ],
 "metadata": {
  "kernelspec": {
   "display_name": "Python [conda env:python3]",
   "language": "python",
   "name": "conda-env-python3-py"
  },
  "language_info": {
   "codemirror_mode": {
    "name": "ipython",
    "version": 3
   },
   "file_extension": ".py",
   "mimetype": "text/x-python",
   "name": "python",
   "nbconvert_exporter": "python",
   "pygments_lexer": "ipython3",
   "version": "3.7.1"
  }
 },
 "nbformat": 4,
 "nbformat_minor": 2
}
