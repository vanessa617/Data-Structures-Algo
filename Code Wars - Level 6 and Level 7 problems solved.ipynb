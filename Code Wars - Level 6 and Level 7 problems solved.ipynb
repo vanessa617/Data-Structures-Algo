{
 "cells": [
  {
   "cell_type": "code",
   "execution_count": 2,
   "metadata": {},
   "outputs": [
    {
     "name": "stdout",
     "output_type": "stream",
     "text": [
      "10\n"
     ]
    }
   ],
   "source": [
    "#Write a program that finds the summation of every number from 1 to num. \n",
    "#The number will always be a positive integer greater than 0.\n",
    "\n",
    "#Brute Force\n",
    "\n",
    "def sum1(num):\n",
    "    adder = 0\n",
    "    counter = 0\n",
    "    for i in range(num):\n",
    "        adder += num - counter\n",
    "        counter += 1\n",
    "    return adder\n",
    "\n",
    "#print(sum1(4))\n",
    "\n",
    "\n",
    "#Better solution\n",
    "\n",
    "def sum2(num):\n",
    "    return sum(range(1,(num + 1)))\n",
    "\n",
    "print(sum2(4))"
   ]
  },
  {
   "cell_type": "code",
   "execution_count": 66,
   "metadata": {},
   "outputs": [
    {
     "name": "stdout",
     "output_type": "stream",
     "text": [
      "['abcd', 'efgh', 'ijkl', 'mnop']\n",
      "['aabbccdd', 'eeffgghh', 'iijjkkll', 'mmnnoopp']\n",
      "aabbccdd\n",
      "aabbccdd\n",
      "eeffgghh\n",
      "eeffgghh\n",
      "iijjkkll\n",
      "iijjkkll\n",
      "mmnnoopp\n",
      "mmnnoopp\n"
     ]
    }
   ],
   "source": [
    "s1 = \"abcd\\nefgh\\nijkl\\nmnop\"\n",
    "new_s1 = s1.split()\n",
    "print(new_s1)\n",
    "k = 2 \n",
    "v = 2\n",
    "#horizontal = [i * 2 for i in new_s1]\n",
    "horizontal = []#[j * k for i in new_s1 for j in i]\n",
    "\n",
    "for i in new_s1:\n",
    "    temp = \"\"\n",
    "    for j in i:\n",
    "        temp += j * k\n",
    "    horizontal.append(temp)\n",
    "\n",
    "\n",
    "print(horizontal)\n",
    "for i in horizontal:\n",
    "    for times in range(v):\n",
    "        print (i)\n",
    "\n",
    " "
   ]
  },
  {
   "cell_type": "code",
   "execution_count": 71,
   "metadata": {},
   "outputs": [
    {
     "name": "stdout",
     "output_type": "stream",
     "text": [
      "aabbccdd\n",
      "aabbccdd\n",
      "eeffgghh\n",
      "eeffgghh\n",
      "iijjkkll\n",
      "iijjkkll\n",
      "mmnnoopp\n",
      "mmnnoopp\n",
      "\n"
     ]
    }
   ],
   "source": [
    "s = \"abcd\\nefgh\\nijkl\\nmnop\"\n",
    "temp = \"\"\n",
    "k = 2\n",
    "for i in s:\n",
    "    if i == '\\n':\n",
    "        temp += i\n",
    "    else:\n",
    "        temp += i * k\n",
    "# print(temp)\n",
    "t2 = temp.split()\n",
    "temp = \"\"\n",
    "for i in t2:\n",
    "    for times in range(v):\n",
    "        temp += i + '\\n'\n",
    "print(temp)"
   ]
  },
  {
   "cell_type": "markdown",
   "metadata": {},
   "source": [
    "string =\"abcd\\nefgh\\nijkl\\nmnop\"\n",
    "string2 = \"qrst\\nuvwx\\nyz12\\n3456\"\n",
    "\n",
    "def compose(s1, s2):\n",
    "    s1 = s1.split()\n",
    "    s2 = s2.split()\n",
    "    temp = \"\"\n",
    "    length = len(s1) \n",
    "    for i in range(len(s1)):\n",
    "        temp += s1[i][:i+1]\n",
    "        temp += s2[length - i -1][:length - i]\n",
    "        temp += '\\n'\n",
    "    return temp\n",
    "    \n",
    "print(compose(string,string2))\n",
    "    \n"
   ]
  },
  {
   "cell_type": "code",
   "execution_count": 1,
   "metadata": {},
   "outputs": [
    {
     "name": "stdout",
     "output_type": "stream",
     "text": [
      "[5, 10]\n",
      "[15]\n",
      "[15]\n",
      "[183, 125]\n"
     ]
    }
   ],
   "source": [
    "def split_and_add(numbers, n):\n",
    "\n",
    "    for i in range(n):\n",
    "        new_list = []\n",
    "        \n",
    "        if len(numbers) > 1:\n",
    "            if len(numbers) % 2 == 1:\n",
    "                numbers = [0] + numbers\n",
    "            length = len(numbers)\n",
    "            mid = length//2\n",
    "            lst_1,lst_2 = numbers[0:mid], numbers[mid:]\n",
    "            zip_list = list(zip(lst_1,lst_2))\n",
    "            for i in zip_list:\n",
    "                new_list.append(sum(i))\n",
    "            numbers = new_list\n",
    "        else:\n",
    "            return numbers\n",
    "    return numbers\n",
    "                \n",
    "                \n",
    "print(split_and_add([1,2,3,4,5],2))#[5,10]\n",
    "print(split_and_add([1,2,3,4,5],3))#[15]\n",
    "print(split_and_add([15], 3)) #15\n",
    "print(split_and_add([32,45,43,23,54,23,54,34], 2))#[183, 125]\n",
    "#print(split_and_add([32,45,43,23,54,23,54,34], 0), [32,45,43,23,54,23,54,34])\n",
    "#print(split_and_add([3,234,25,345,45,34,234,235,345], 3), [305, 1195])\n",
    "#print(split_and_add([3,234,25,345,45,34,234,235,345,34,534,45,645,645,645,4656,45,3], 4), [1040, 7712])\n",
    "#print(split_and_add([23,345,345,345,34536,567,568,6,34536,54,7546,456], 20), [79327])\n",
    "            "
   ]
  },
  {
   "cell_type": "code",
   "execution_count": null,
   "metadata": {},
   "outputs": [],
   "source": [
    "def dig_pow(n, p):\n",
    "    str_n = str(n)\n",
    "    int_n = [int(i) for i in str_n]\n",
    "    summy = 0\n",
    "    enum_list = list(enumerate(int_n, p))\n",
    "    print('enum_list:', enum_list)\n",
    "    for i in enum_list:\n",
    "        summy += pow(i[1], i[0])\n",
    "    if summy / n >= 1 and summy % n == 0:\n",
    "        k = summy/n\n",
    "        return int(k)\n",
    "    else:\n",
    "        return -1\n",
    "  \n",
    "\n",
    "print(dig_pow(89, 1))\n",
    "print(dig_pow(92, 1))\n",
    "print(dig_pow(46288, 3))\n"
   ]
  },
  {
   "cell_type": "code",
   "execution_count": 32,
   "metadata": {},
   "outputs": [
    {
     "name": "stdout",
     "output_type": "stream",
     "text": [
      "prime low: 307\n",
      "{317: 307}\n",
      "prime low: 311\n",
      "{317: 307, 321: 311}\n",
      "prime low: 313\n",
      "{317: 307, 321: 311, 323: 313}\n",
      "prime low: 317\n",
      "(307, 317)\n"
     ]
    }
   ],
   "source": [
    "'''The prime numbers are not regularly spaced. For example from 2 to 3 the step is 1. From 3 to 5 the step is 2. From 7 to 11 it is 4. Between 2 and 50 we have the following pairs of 2-steps primes:\n",
    "\n",
    "3, 5 - 5, 7, - 11, 13, - 17, 19, - 29, 31, - 41, 43\n",
    "\n",
    "We will write a function step with parameters:\n",
    "\n",
    "g (integer >= 2) which indicates the step we are looking for,\n",
    "\n",
    "m (integer >= 2) which gives the start of the search (m inclusive),\n",
    "\n",
    "n (integer >= m) which gives the end of the search (n inclusive)\n",
    "\n",
    "In the example above step(2, 2, 50) will return [3, 5] which is the first pair between 2 and 50 with a 2-steps.'''\n",
    "import bisect \n",
    "def step(g, m, n):\n",
    "    numbers = [i for i in range(2, 1000000)]\n",
    "    primes = []\n",
    "    for i in range(2, len(numbers)):\n",
    "        if numbers[i]:\n",
    "            primes.append(i)\n",
    "            for j in range(i+i, len(numbers), i):\n",
    "                numbers[j] = None\n",
    "    low = bisect.bisect_left(primes, m)\n",
    "    high = bisect.bisect_right(primes, n)\n",
    "    items = {}\n",
    "    while low < len(primes) and low <= high:\n",
    "        print('prime low:', primes[low])\n",
    "        if items.get(primes[low]):\n",
    "            return items.get(primes[low]), primes[low]\n",
    "        else:\n",
    "            items[primes[low] + g] = primes[low]\n",
    "        low += 1\n",
    "        print(items)\n",
    "#     for i in range(low, high + 1):\n",
    "#         for j in range(low, high + 1):\n",
    "#             if g == primes[j] - primes[i]:\n",
    "#                 return [primes[i],primes[j]] \n",
    "    return 'nil'\n",
    "        \n",
    "                \n",
    "\n",
    "# print(step(2,100,110)) #[101, 103]\n",
    "# print(step(4,100,110))#[103, 107]\n",
    "# print(step(6,100,110))#[101, 107]\n",
    "# print(step(8,300,400), )#[359, 367]\n",
    "print(step(10,300,400))#[307, 317]"
   ]
  },
  {
   "cell_type": "code",
   "execution_count": 40,
   "metadata": {},
   "outputs": [
    {
     "name": "stdout",
     "output_type": "stream",
     "text": [
      "lsum: 0  rsum: 16\n",
      "lsum: 1  rsum: 15\n",
      "lsum: 3  rsum: 13\n",
      "lsum: 6  rsum: 10\n",
      "3\n",
      "lsum: 0  rsum: 102\n",
      "lsum: 1  rsum: 101\n",
      "1\n",
      "lsum: 0  rsum: 21\n",
      "lsum: 1  rsum: 20\n",
      "lsum: 3  rsum: 18\n",
      "lsum: 6  rsum: 15\n",
      "lsum: 10  rsum: 11\n",
      "lsum: 15  rsum: 6\n",
      "-1\n",
      "lsum: 0  rsum: 130\n",
      "lsum: 20  rsum: 110\n",
      "lsum: 30  rsum: 100\n",
      "lsum: 60  rsum: 70\n",
      "3\n",
      "lsum: 0  rsum: 20\n",
      "0\n",
      "lsum: 0  rsum: 20\n",
      "lsum: 10  rsum: 10\n",
      "lsum: -70  rsum: 90\n",
      "lsum: -60  rsum: 80\n",
      "lsum: -50  rsum: 70\n",
      "lsum: -35  rsum: 55\n",
      "lsum: 0  rsum: 20\n",
      "6\n"
     ]
    }
   ],
   "source": [
    "def find_even_index(arr):\n",
    "    left_sum = 0\n",
    "    right_sum = sum(arr[:])\n",
    "    for i in range(0, len(arr)):\n",
    "#         print('lsum:', left_sum, ' rsum:', right_sum)\n",
    "        right_sum -= arr[i]\n",
    "        if left_sum == right_sum:\n",
    "            return i\n",
    "        else:\n",
    "            left_sum += arr[i]\n",
    "            \n",
    "    return -1\n",
    "\n",
    "print(find_even_index([1,2,3,4,3,2,1]))#3\n",
    "print(find_even_index([1,100,50,-51,1,1]))#1\n",
    "print(find_even_index([1,2,3,4,5,6]))#-1\n",
    "print(find_even_index([20,10,30,10,10,15,35]))#3\n",
    "print(find_even_index([20,10,-80,10,10,15,35]))#0\n",
    "print(find_even_index([10,-80,10,10,15,35,20]))#6\n",
    "# print(find_even_index(range(1,100)),-1)\n",
    "# print(find_even_index([0,0,0,0,0]),0,\"Should pick the first index if more cases are valid\")\n",
    "# print(find_even_index([-1,-2,-3,-4,-3,-2,-1]),3)\n",
    "# print(find_even_index(range(-100,-1)),-1)"
   ]
  }
 ],
 "metadata": {
  "kernelspec": {
   "display_name": "Python [conda env:python3]",
   "language": "python",
   "name": "conda-env-python3-py"
  },
  "language_info": {
   "codemirror_mode": {
    "name": "ipython",
    "version": 3
   },
   "file_extension": ".py",
   "mimetype": "text/x-python",
   "name": "python",
   "nbconvert_exporter": "python",
   "pygments_lexer": "ipython3",
   "version": "3.7.1"
  }
 },
 "nbformat": 4,
 "nbformat_minor": 2
}
